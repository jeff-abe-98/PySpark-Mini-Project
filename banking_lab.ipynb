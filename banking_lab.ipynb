{
 "cells": [
  {
   "cell_type": "code",
   "execution_count": 0,
   "metadata": {
    "application/vnd.databricks.v1+cell": {
     "cellMetadata": {
      "byteLimit": 2048000,
      "rowLimit": 10000
     },
     "inputWidgets": {},
     "nuid": "e922643b-7ae0-45df-9852-718f31ce5944",
     "showTitle": false,
     "title": ""
    }
   },
   "outputs": [
    {
     "output_type": "stream",
     "name": "stdout",
     "output_type": "stream",
     "text": [
      "\u001B[43mNote: you may need to restart the kernel using dbutils.library.restartPython() to use updated packages.\u001B[0m\nCollecting findspark\n  Downloading findspark-2.0.1-py2.py3-none-any.whl (4.4 kB)\nInstalling collected packages: findspark\nSuccessfully installed findspark-2.0.1\n\u001B[43mNote: you may need to restart the kernel using dbutils.library.restartPython() to use updated packages.\u001B[0m\n"
     ]
    }
   ],
   "source": [
    "\n",
    "%pip install findspark\n",
    "import findspark\n",
    "findspark.init()\n",
    "import pyspark\n",
    "from pyspark.sql import SparkSession\n",
    "spark = SparkSession.builder.getOrCreate()\n",
    "from pyspark.sql.functions import *"
   ]
  },
  {
   "cell_type": "markdown",
   "metadata": {
    "application/vnd.databricks.v1+cell": {
     "cellMetadata": {},
     "inputWidgets": {},
     "nuid": "47056c83-3de6-4a74-8b0c-dcccf0d73b9c",
     "showTitle": false,
     "title": ""
    }
   },
   "source": [
    "# LOAN DATASET #"
   ]
  },
  {
   "cell_type": "code",
   "execution_count": 0,
   "metadata": {
    "application/vnd.databricks.v1+cell": {
     "cellMetadata": {
      "byteLimit": 2048000,
      "rowLimit": 10000
     },
     "inputWidgets": {},
     "nuid": "e786e68c-10ef-4c01-9abd-47fc42641371",
     "showTitle": false,
     "title": ""
    }
   },
   "outputs": [],
   "source": [
    "#read in load dataset\n",
    "loanDf = spark.table('default.loan')\n",
    "oldcol = loanDf.columns\n",
    "newcol = ['CustomerID', 'Age', 'Gender', 'Occupation', 'MaritalStatus', 'FamilySize', 'Income', 'Expenditure', 'UseFrequency', 'LoanCategory', 'LoanAmount', 'Overdue', 'DebtRecord', 'ReturnedCheck', 'DishonourOfBill']\n",
    "for idx in range(len(oldcol)):\n",
    "    loanDf = loanDf.withColumnRenamed(oldcol[idx], newcol[idx])"
   ]
  },
  {
   "cell_type": "code",
   "execution_count": 0,
   "metadata": {
    "application/vnd.databricks.v1+cell": {
     "cellMetadata": {
      "byteLimit": 2048000,
      "rowLimit": 10000
     },
     "inputWidgets": {},
     "nuid": "32affed3-fb46-4038-b80f-c67931b2a899",
     "showTitle": false,
     "title": ""
    }
   },
   "outputs": [],
   "source": [
    "loanDf = loanDf.withColumn('LoanAmount', regexp_replace(loanDf['LoanAmount'],',','').cast('numeric'))\n",
    "loanDf = loanDf.withColumn('DebtRecord', regexp_replace(loanDf['DebtRecord'],',','').cast('numeric'))"
   ]
  },
  {
   "cell_type": "code",
   "execution_count": 0,
   "metadata": {
    "application/vnd.databricks.v1+cell": {
     "cellMetadata": {
      "byteLimit": 2048000,
      "rowLimit": 10000
     },
     "inputWidgets": {},
     "nuid": "72e780d0-e313-4450-9691-a3e9aad95203",
     "showTitle": false,
     "title": ""
    },
    "scrolled": true
   },
   "outputs": [
    {
     "output_type": "stream",
     "name": "stdout",
     "output_type": "stream",
     "text": [
      "root\n |-- CustomerID: string (nullable = true)\n |-- Age: long (nullable = true)\n |-- Gender: string (nullable = true)\n |-- Occupation: string (nullable = true)\n |-- MaritalStatus: string (nullable = true)\n |-- FamilySize: long (nullable = true)\n |-- Income: long (nullable = true)\n |-- Expenditure: long (nullable = true)\n |-- UseFrequency: long (nullable = true)\n |-- LoanCategory: string (nullable = true)\n |-- LoanAmount: decimal(10,0) (nullable = true)\n |-- Overdue: long (nullable = true)\n |-- DebtRecord: decimal(10,0) (nullable = true)\n |-- ReturnedCheck: long (nullable = true)\n |-- DishonourOfBill: long (nullable = true)\n\n"
     ]
    }
   ],
   "source": [
    "# Print the schema of the loan dataset\n",
    "loanDf.printSchema()"
   ]
  },
  {
   "cell_type": "code",
   "execution_count": 0,
   "metadata": {
    "application/vnd.databricks.v1+cell": {
     "cellMetadata": {
      "byteLimit": 2048000,
      "rowLimit": 10000
     },
     "inputWidgets": {},
     "nuid": "5b1db28c-a7e1-4f1f-b01d-a638bebe6ef3",
     "showTitle": false,
     "title": ""
    },
    "scrolled": true
   },
   "outputs": [
    {
     "output_type": "stream",
     "name": "stdout",
     "output_type": "stream",
     "text": [
      "+----------+---+------+------------+-------------+----------+------+-----------+------------+------------+----------+-------+----------+-------------+---------------+\n|CustomerID|Age|Gender|  Occupation|MaritalStatus|FamilySize|Income|Expenditure|UseFrequency|LoanCategory|LoanAmount|Overdue|DebtRecord|ReturnedCheck|DishonourOfBill|\n+----------+---+------+------------+-------------+----------+------+-----------+------------+------------+----------+-------+----------+-------------+---------------+\n|   IB14001| 30|  MALE|BANK MANAGER|       SINGLE|         4| 50000|      22199|           6|     HOUSING|   1000000|      5|     42898|            6|              9|\n|   IB14008| 44|  MALE|   PROFESSOR|      MARRIED|         6| 51000|      19999|           4|    SHOPPING|     50000|      3|     33999|            1|              5|\n|   IB14012| 30|FEMALE|     DENTIST|       SINGLE|         3| 58450|      27675|           5|  TRAVELLING|     75000|      6|     20876|            3|              1|\n|   IB14018| 29|  MALE|     TEACHER|      MARRIED|         5| 45767|      12787|           3|   GOLD LOAN|    600000|      7|     11000|            0|              4|\n|   IB14022| 34|  MALE|      POLICE|       SINGLE|         4| 43521|      11999|           3|  AUTOMOBILE|    200000|      2|     43898|            1|              2|\n+----------+---+------+------------+-------------+----------+------+-----------+------------+------------+----------+-------+----------+-------------+---------------+\n\n"
     ]
    }
   ],
   "source": [
    "# Print the first 5 lines of the loan dataset\n",
    "loanDf.limit(5).show()"
   ]
  },
  {
   "cell_type": "code",
   "execution_count": 0,
   "metadata": {
    "application/vnd.databricks.v1+cell": {
     "cellMetadata": {
      "byteLimit": 2048000,
      "rowLimit": 10000
     },
     "inputWidgets": {},
     "nuid": "e0b13b13-81e0-4ad7-be96-fd7d05148b82",
     "showTitle": false,
     "title": ""
    }
   },
   "outputs": [
    {
     "output_type": "execute_result",
     "data": {
      "text/plain": [
       "15"
      ]
     },
     "execution_count": 14,
     "metadata": {},
     "output_type": "execute_result"
    }
   ],
   "source": [
    "# Print the number of columns in the loan dataset\n",
    "len(loanDf.columns)"
   ]
  },
  {
   "cell_type": "code",
   "execution_count": 0,
   "metadata": {
    "application/vnd.databricks.v1+cell": {
     "cellMetadata": {
      "byteLimit": 2048000,
      "rowLimit": 10000
     },
     "inputWidgets": {},
     "nuid": "3f298fd4-3bc1-4669-ab44-02f02178502b",
     "showTitle": false,
     "title": ""
    }
   },
   "outputs": [
    {
     "output_type": "execute_result",
     "data": {
      "text/plain": [
       "500"
      ]
     },
     "execution_count": 15,
     "metadata": {},
     "output_type": "execute_result"
    }
   ],
   "source": [
    "# Print the number of rows in the loan dataset\n",
    "loanDf.count()"
   ]
  },
  {
   "cell_type": "code",
   "execution_count": 0,
   "metadata": {
    "application/vnd.databricks.v1+cell": {
     "cellMetadata": {
      "byteLimit": 2048000,
      "rowLimit": 10000
     },
     "inputWidgets": {},
     "nuid": "97fa8cc3-072f-4e47-8d90-548688d14adc",
     "showTitle": false,
     "title": ""
    }
   },
   "outputs": [
    {
     "output_type": "execute_result",
     "data": {
      "text/plain": [
       "500"
      ]
     },
     "execution_count": 16,
     "metadata": {},
     "output_type": "execute_result"
    }
   ],
   "source": [
    "# Print the count of distinct records in the loan dataset\n",
    "loanDf.distinct().count()"
   ]
  },
  {
   "cell_type": "code",
   "execution_count": 0,
   "metadata": {
    "application/vnd.databricks.v1+cell": {
     "cellMetadata": {
      "byteLimit": 2048000,
      "rowLimit": 10000
     },
     "inputWidgets": {},
     "nuid": "970f2440-db16-4c00-bed6-af4764a802f0",
     "showTitle": false,
     "title": ""
    },
    "scrolled": true
   },
   "outputs": [
    {
     "output_type": "stream",
     "name": "stdout",
     "output_type": "stream",
     "text": [
      "+------------------+-----+\n|      LoanCategory|count|\n+------------------+-----+\n|           HOUSING|   67|\n|        TRAVELLING|   53|\n|       BOOK STORES|    7|\n|       AGRICULTURE|   12|\n|         GOLD LOAN|   77|\n|  EDUCATIONAL LOAN|   20|\n|        AUTOMOBILE|   60|\n|          BUSINESS|   24|\n|COMPUTER SOFTWARES|   35|\n|           DINNING|   14|\n|          SHOPPING|   35|\n|       RESTAURANTS|   41|\n|       ELECTRONICS|   14|\n|          BUILDING|    7|\n|        RESTAURANT|   20|\n|   HOME APPLIANCES|   14|\n+------------------+-----+\n\n"
     ]
    }
   ],
   "source": [
    "# find the number of loans in each category\n",
    "loanDf.groupBy('LoanCategory').count().show()"
   ]
  },
  {
   "cell_type": "code",
   "execution_count": 0,
   "metadata": {
    "application/vnd.databricks.v1+cell": {
     "cellMetadata": {
      "byteLimit": 2048000,
      "rowLimit": 10000
     },
     "inputWidgets": {},
     "nuid": "6305cf38-6dcf-4559-a17f-aa5af58dca15",
     "showTitle": false,
     "title": ""
    }
   },
   "outputs": [
    {
     "output_type": "execute_result",
     "data": {
      "text/plain": [
       "130"
      ]
     },
     "execution_count": 18,
     "metadata": {},
     "output_type": "execute_result"
    }
   ],
   "source": [
    "# find the number of people who have taken more than 1 lack loan\n",
    "loanDf.where(col('LoanAmount') > 1000000).select('CustomerID').distinct().count()"
   ]
  },
  {
   "cell_type": "code",
   "execution_count": 0,
   "metadata": {
    "application/vnd.databricks.v1+cell": {
     "cellMetadata": {
      "byteLimit": 2048000,
      "rowLimit": 10000
     },
     "inputWidgets": {},
     "nuid": "1669d88a-814e-4158-b404-10bef5cf83f1",
     "showTitle": false,
     "title": ""
    },
    "scrolled": true
   },
   "outputs": [
    {
     "output_type": "execute_result",
     "data": {
      "text/plain": [
       "198"
      ]
     },
     "execution_count": 19,
     "metadata": {},
     "output_type": "execute_result"
    }
   ],
   "source": [
    "# find the number of people with income greater than 60000 rupees\n",
    "loanDf.where(col('Income')>60000).count()"
   ]
  },
  {
   "cell_type": "code",
   "execution_count": 0,
   "metadata": {
    "application/vnd.databricks.v1+cell": {
     "cellMetadata": {
      "byteLimit": 2048000,
      "rowLimit": 10000
     },
     "inputWidgets": {},
     "nuid": "3b6ba4a2-a08f-482a-9cf6-52fdc1e491e2",
     "showTitle": false,
     "title": ""
    }
   },
   "outputs": [
    {
     "output_type": "execute_result",
     "data": {
      "text/plain": [
       "137"
      ]
     },
     "execution_count": 20,
     "metadata": {},
     "output_type": "execute_result"
    }
   ],
   "source": [
    "# find the number of people with 2 or more returned cheques and income less than 50000\n",
    "loanDf.where((col('ReturnedCheck') >= 2)&(loanDf.Income < 50000)).count()"
   ]
  },
  {
   "cell_type": "code",
   "execution_count": 0,
   "metadata": {
    "application/vnd.databricks.v1+cell": {
     "cellMetadata": {
      "byteLimit": 2048000,
      "rowLimit": 10000
     },
     "inputWidgets": {},
     "nuid": "01b288c5-8e01-4636-a1c1-28e33fe9551b",
     "showTitle": false,
     "title": ""
    }
   },
   "outputs": [
    {
     "output_type": "execute_result",
     "data": {
      "text/plain": [
       "111"
      ]
     },
     "execution_count": 21,
     "metadata": {},
     "output_type": "execute_result"
    }
   ],
   "source": [
    "# find the number of people with 2 or more returned cheques and are single\n",
    "loanDf.where((col('ReturnedCheck') >= 2)&(col('MaritalStatus') == 'SINGLE')).count()"
   ]
  },
  {
   "cell_type": "code",
   "execution_count": 0,
   "metadata": {
    "application/vnd.databricks.v1+cell": {
     "cellMetadata": {
      "byteLimit": 2048000,
      "rowLimit": 10000
     },
     "inputWidgets": {},
     "nuid": "e14d147a-694f-4e95-a8ca-f48b9687d060",
     "showTitle": false,
     "title": ""
    },
    "scrolled": false
   },
   "outputs": [
    {
     "output_type": "stream",
     "name": "stdout",
     "output_type": "stream",
     "text": [
      "+----------+---+------+---------------+-------------+----------+------+-----------+------------+------------+----------+-------+----------+-------------+---------------+\n|CustomerID|Age|Gender|     Occupation|MaritalStatus|FamilySize|Income|Expenditure|UseFrequency|LoanCategory|LoanAmount|Overdue|DebtRecord|ReturnedCheck|DishonourOfBill|\n+----------+---+------+---------------+-------------+----------+------+-----------+------------+------------+----------+-------+----------+-------------+---------------+\n|   IB14158| 54|  MALE|AIRPORT OFFICER|      MARRIED|         6| 80000|      62541|           2|  AUTOMOBILE|   2045789|      1|     16599|            2|              3|\n|   IB14176| 54|  MALE|AIRPORT OFFICER|      MARRIED|         6| 80000|      62541|           2|     HOUSING|   2045789|      1|     16599|            2|              3|\n|   IB14204| 54|  MALE|AIRPORT OFFICER|      MARRIED|         6| 81000|      62541|           2|     DINNING|   2045789|      1|     16599|            2|              3|\n|   IB14227| 54|  MALE|AIRPORT OFFICER|      MARRIED|         6| 80000|      62541|           2|     HOUSING|   2045789|      1|     16599|            2|              3|\n|   IB14278| 41|  MALE|   BANK MANAGER|      MARRIED|         6| 64125|      51246|           6|  TRAVELLING|    652147|      5|     16524|            3|              3|\n|   IB15024| 26|  MALE|      DIETICIAN|       SINGLE|         3| 95425|      53086|           2|     HOUSING|    488076|      4|     61227|            5|              2|\n+----------+---+------+---------------+-------------+----------+------+-----------+------------+------------+----------+-------+----------+-------------+---------------+\n\n"
     ]
    }
   ],
   "source": [
    "# find the  number of people with expenditure over 50000 a month \n",
    "loanDf.where(col('Expenditure') > 50000).show()"
   ]
  },
  {
   "cell_type": "markdown",
   "metadata": {
    "application/vnd.databricks.v1+cell": {
     "cellMetadata": {},
     "inputWidgets": {},
     "nuid": "f0e61af4-85d7-48c8-8b22-458ae0893dcf",
     "showTitle": false,
     "title": ""
    }
   },
   "source": [
    "# CREDIT CARD DATASET #"
   ]
  },
  {
   "cell_type": "code",
   "execution_count": 0,
   "metadata": {
    "application/vnd.databricks.v1+cell": {
     "cellMetadata": {
      "byteLimit": 2048000,
      "rowLimit": 10000
     },
     "inputWidgets": {},
     "nuid": "db638b63-7e08-4c0f-a3f2-6aa0ebf07727",
     "showTitle": false,
     "title": ""
    }
   },
   "outputs": [],
   "source": [
    "# Load the credit card dataset\n",
    "credit_cardDf = spark.table('default.credit_card')"
   ]
  },
  {
   "cell_type": "code",
   "execution_count": 0,
   "metadata": {
    "application/vnd.databricks.v1+cell": {
     "cellMetadata": {
      "byteLimit": 2048000,
      "rowLimit": 10000
     },
     "inputWidgets": {},
     "nuid": "96841bf6-f55f-4c9e-b48f-fe3a555612ab",
     "showTitle": false,
     "title": ""
    },
    "scrolled": true
   },
   "outputs": [
    {
     "output_type": "stream",
     "name": "stdout",
     "output_type": "stream",
     "text": [
      "root\n |-- RowNumber: long (nullable = true)\n |-- CustomerId: long (nullable = true)\n |-- Surname: string (nullable = true)\n |-- CreditScore: long (nullable = true)\n |-- Geography: string (nullable = true)\n |-- Gender: string (nullable = true)\n |-- Age: long (nullable = true)\n |-- Tenure: long (nullable = true)\n |-- Balance: double (nullable = true)\n |-- NumOfProducts: long (nullable = true)\n |-- IsActiveMember: long (nullable = true)\n |-- EstimatedSalary: double (nullable = true)\n |-- Exited: long (nullable = true)\n\n"
     ]
    }
   ],
   "source": [
    "# Print the schema of the credit card dataset\n",
    "credit_cardDf.printSchema()"
   ]
  },
  {
   "cell_type": "code",
   "execution_count": 0,
   "metadata": {
    "application/vnd.databricks.v1+cell": {
     "cellMetadata": {
      "byteLimit": 2048000,
      "rowLimit": 10000
     },
     "inputWidgets": {},
     "nuid": "6efcef4a-46b0-4b6e-94cc-89bed0795600",
     "showTitle": false,
     "title": ""
    }
   },
   "outputs": [
    {
     "output_type": "execute_result",
     "data": {
      "text/plain": [
       "13"
      ]
     },
     "execution_count": 25,
     "metadata": {},
     "output_type": "execute_result"
    }
   ],
   "source": [
    "# Print the number of columns in the credit card dataset\n",
    "len(credit_cardDf.columns)"
   ]
  },
  {
   "cell_type": "code",
   "execution_count": 0,
   "metadata": {
    "application/vnd.databricks.v1+cell": {
     "cellMetadata": {
      "byteLimit": 2048000,
      "rowLimit": 10000
     },
     "inputWidgets": {},
     "nuid": "b00edb8d-d853-43e4-81b6-f819afd09316",
     "showTitle": false,
     "title": ""
    }
   },
   "outputs": [
    {
     "output_type": "execute_result",
     "data": {
      "text/plain": [
       "10000"
      ]
     },
     "execution_count": 26,
     "metadata": {},
     "output_type": "execute_result"
    }
   ],
   "source": [
    "# Print the number of rows in the credit card dataset\n",
    "credit_cardDf.count()"
   ]
  },
  {
   "cell_type": "code",
   "execution_count": 0,
   "metadata": {
    "application/vnd.databricks.v1+cell": {
     "cellMetadata": {
      "byteLimit": 2048000,
      "rowLimit": 10000
     },
     "inputWidgets": {},
     "nuid": "ebb542fe-274a-4274-b99f-0aaf4b70ad5b",
     "showTitle": false,
     "title": ""
    }
   },
   "outputs": [
    {
     "output_type": "execute_result",
     "data": {
      "text/plain": [
       "10000"
      ]
     },
     "execution_count": 27,
     "metadata": {},
     "output_type": "execute_result"
    }
   ],
   "source": [
    "# Print the number of distinct records in the credit card dataset\n",
    "credit_cardDf.distinct().count()"
   ]
  },
  {
   "cell_type": "code",
   "execution_count": 0,
   "metadata": {
    "application/vnd.databricks.v1+cell": {
     "cellMetadata": {
      "byteLimit": 2048000,
      "rowLimit": 10000
     },
     "inputWidgets": {},
     "nuid": "6233ad3f-771c-4b5e-bb70-35cfe0d869da",
     "showTitle": false,
     "title": ""
    }
   },
   "outputs": [
    {
     "output_type": "stream",
     "name": "stdout",
     "output_type": "stream",
     "text": [
      "+---------+----------+--------+-----------+---------+------+---+------+---------+-------------+--------------+---------------+------+\n|RowNumber|CustomerId| Surname|CreditScore|Geography|Gender|Age|Tenure|  Balance|NumOfProducts|IsActiveMember|EstimatedSalary|Exited|\n+---------+----------+--------+-----------+---------+------+---+------+---------+-------------+--------------+---------------+------+\n|        1|  15634602|Hargrave|        619|   France|Female| 42|     2|      0.0|            1|             1|      101348.88|     1|\n|        2|  15647311|    Hill|        608|    Spain|Female| 41|     1| 83807.86|            1|             1|      112542.58|     0|\n|        3|  15619304|    Onio|        502|   France|Female| 42|     8| 159660.8|            3|             0|      113931.57|     1|\n|        4|  15701354|    Boni|        699|   France|Female| 39|     1|      0.0|            2|             0|       93826.63|     0|\n|        5|  15737888|Mitchell|        850|    Spain|Female| 43|     2|125510.82|            1|             1|        79084.1|     0|\n+---------+----------+--------+-----------+---------+------+---+------+---------+-------------+--------------+---------------+------+\n\n"
     ]
    }
   ],
   "source": [
    "# Print the first 5 rows in the credit card dataset\n",
    "credit_cardDf.limit(5).show()"
   ]
  },
  {
   "cell_type": "code",
   "execution_count": 0,
   "metadata": {
    "application/vnd.databricks.v1+cell": {
     "cellMetadata": {
      "byteLimit": 2048000,
      "rowLimit": 10000
     },
     "inputWidgets": {},
     "nuid": "e9681593-ac93-4ec4-bcea-af845988c66f",
     "showTitle": false,
     "title": ""
    },
    "scrolled": true
   },
   "outputs": [
    {
     "output_type": "execute_result",
     "data": {
      "text/plain": [
       "3116"
      ]
     },
     "execution_count": 29,
     "metadata": {},
     "output_type": "execute_result"
    }
   ],
   "source": [
    "# Find the number of members who are elgible for credit card\n",
    "credit_cardDf.where(col('CreditScore') > 700).count()"
   ]
  },
  {
   "cell_type": "code",
   "execution_count": 0,
   "metadata": {
    "application/vnd.databricks.v1+cell": {
     "cellMetadata": {
      "byteLimit": 2048000,
      "rowLimit": 10000
     },
     "inputWidgets": {},
     "nuid": "47a2b23e-dbf7-4801-8a35-25dbede87f14",
     "showTitle": false,
     "title": ""
    }
   },
   "outputs": [
    {
     "output_type": "execute_result",
     "data": {
      "text/plain": [
       "1637"
      ]
     },
     "execution_count": 30,
     "metadata": {},
     "output_type": "execute_result"
    }
   ],
   "source": [
    "# Find the number of members who are  elgible and active in the bank\n",
    "credit_cardDf.where((col('CreditScore') > 700) & (col('IsActiveMember') == 1)).count()"
   ]
  },
  {
   "cell_type": "code",
   "execution_count": 0,
   "metadata": {
    "application/vnd.databricks.v1+cell": {
     "cellMetadata": {
      "byteLimit": 2048000,
      "rowLimit": 10000
     },
     "inputWidgets": {},
     "nuid": "ff1bfb8d-434f-47de-a96b-973929cf7766",
     "showTitle": false,
     "title": ""
    }
   },
   "outputs": [
    {
     "output_type": "stream",
     "name": "stdout",
     "output_type": "stream",
     "text": [
      "+---------+----------+---------+-----------+---------+------+---+------+---------+-------------+--------------+---------------+------+\n|RowNumber|CustomerId|  Surname|CreditScore|Geography|Gender|Age|Tenure|  Balance|NumOfProducts|IsActiveMember|EstimatedSalary|Exited|\n+---------+----------+---------+-----------+---------+------+---+------+---------+-------------+--------------+---------------+------+\n|        2|  15647311|     Hill|        608|    Spain|Female| 41|     1| 83807.86|            1|             1|      112542.58|     0|\n|        5|  15737888| Mitchell|        850|    Spain|Female| 43|     2|125510.82|            1|             1|        79084.1|     0|\n|        6|  15574012|      Chu|        645|    Spain|  Male| 44|     8|113755.78|            2|             0|      149756.71|     1|\n|       12|  15737173|  Andrews|        497|    Spain|  Male| 24|     3|      0.0|            2|             0|       76390.01|     0|\n|       15|  15600882|    Scott|        635|    Spain|Female| 35|     7|      0.0|            2|             1|       65951.65|     0|\n|       18|  15788218|Henderson|        549|    Spain|Female| 24|     9|      0.0|            2|             1|       14406.41|     0|\n|       19|  15661507|  Muldrow|        587|    Spain|  Male| 45|     6|      0.0|            1|             0|      158684.81|     0|\n|       22|  15597945| Dellucci|        636|    Spain|Female| 32|     8|      0.0|            2|             0|      138555.46|     0|\n|       23|  15699309|Gerasimov|        510|    Spain|Female| 38|     4|      0.0|            1|             0|      118913.53|     1|\n|       31|  15589475|  Azikiwe|        591|    Spain|Female| 39|     3|      0.0|            3|             0|      140469.38|     1|\n|       34|  15659428|  Maggard|        520|    Spain|Female| 42|     6|      0.0|            2|             1|       34410.55|     0|\n|       35|  15732963| Clements|        722|    Spain|Female| 29|     9|      0.0|            2|             1|      142033.07|     0|\n|       37|  15788448|   Watson|        490|    Spain|  Male| 31|     3|145260.23|            1|             1|      114066.77|     0|\n|       38|  15729599|  Lorenzo|        804|    Spain|  Male| 33|     7|  76548.6|            1|             1|       98453.45|     0|\n|       41|  15619360|    Hsiao|        472|    Spain|  Male| 40|     4|      0.0|            1|             0|       70154.22|     0|\n|       45|  15684171|  Bianchi|        660|    Spain|Female| 61|     5|155931.11|            1|             1|      158338.39|     0|\n|       59|  15623944|    T'ien|        511|    Spain|Female| 66|     4|      0.0|            1|             0|        1643.11|     1|\n|       63|  15702014|  Jeffrey|        555|    Spain|  Male| 33|     1| 56084.69|            2|             0|      178798.13|     0|\n|       64|  15751208|  Pirozzi|        684|    Spain|  Male| 56|     8| 78707.16|            1|             1|       99398.36|     0|\n|       73|  15812518|  Palermo|        657|    Spain|Female| 37|     0|163607.18|            1|             1|       44203.55|     0|\n+---------+----------+---------+-----------+---------+------+---+------+---------+-------------+--------------+---------------+------+\nonly showing top 20 rows\n\n"
     ]
    }
   ],
   "source": [
    "# Find the credit card users in Spain \n",
    "credit_cardDf.where(col('Geography') == 'Spain').show()"
   ]
  },
  {
   "cell_type": "code",
   "execution_count": 0,
   "metadata": {
    "application/vnd.databricks.v1+cell": {
     "cellMetadata": {
      "byteLimit": 2048000,
      "rowLimit": 10000
     },
     "inputWidgets": {},
     "nuid": "74f31407-f0bc-41d0-b232-daf9d698a3d1",
     "showTitle": false,
     "title": ""
    }
   },
   "outputs": [
    {
     "output_type": "execute_result",
     "data": {
      "text/plain": [
       "1044"
      ]
     },
     "execution_count": 32,
     "metadata": {},
     "output_type": "execute_result"
    }
   ],
   "source": [
    "# Find the credit card users with Estiamted Salary greater than 100000 and have exited the card\n",
    "credit_cardDf.where((col('EstimatedSalary') > 100000) & (col('Exited') == 1)).count()"
   ]
  },
  {
   "cell_type": "code",
   "execution_count": 0,
   "metadata": {
    "application/vnd.databricks.v1+cell": {
     "cellMetadata": {
      "byteLimit": 2048000,
      "rowLimit": 10000
     },
     "inputWidgets": {},
     "nuid": "e654bfce-00b2-4510-a44e-d91ac7b7acd8",
     "showTitle": false,
     "title": ""
    },
    "scrolled": false
   },
   "outputs": [
    {
     "output_type": "execute_result",
     "data": {
      "text/plain": [
       "2432"
      ]
     },
     "execution_count": 33,
     "metadata": {},
     "output_type": "execute_result"
    }
   ],
   "source": [
    "# Find the credit card users with Estiamted Salary less than 100000 and have more than 1 products\n",
    "credit_cardDf.where((col('EstimatedSalary') < 100000) & (col('NumOfProducts') > 1)).count()"
   ]
  },
  {
   "cell_type": "markdown",
   "metadata": {
    "application/vnd.databricks.v1+cell": {
     "cellMetadata": {},
     "inputWidgets": {},
     "nuid": "7c7d3132-06fc-48c1-af92-89b7968bc170",
     "showTitle": false,
     "title": ""
    }
   },
   "source": [
    "# TRANSACTION DATASET #"
   ]
  },
  {
   "cell_type": "code",
   "execution_count": 0,
   "metadata": {
    "application/vnd.databricks.v1+cell": {
     "cellMetadata": {
      "byteLimit": 2048000,
      "rowLimit": 10000
     },
     "inputWidgets": {},
     "nuid": "c0dee25f-e929-4e47-8afa-8f6467742f68",
     "showTitle": false,
     "title": ""
    }
   },
   "outputs": [],
   "source": [
    "# Load the transacton dataset\n",
    "txnDf = spark.table('default.txn')\n",
    "oldcol = txnDf.columns\n",
    "newcol = ['AccountNo', 'TransactionDetails', 'ValueDate', 'WithdrawalAmt', 'DepositAmt', 'BalanceAmt']\n",
    "\n",
    "for idx in range(len(oldcol)):\n",
    "    txnDf = txnDf.withColumnRenamed(oldcol[idx], newcol[idx])"
   ]
  },
  {
   "cell_type": "code",
   "execution_count": 0,
   "metadata": {
    "application/vnd.databricks.v1+cell": {
     "cellMetadata": {
      "byteLimit": 2048000,
      "rowLimit": 10000
     },
     "inputWidgets": {},
     "nuid": "76ac1e93-6b64-4f18-994d-62002fcf4f57",
     "showTitle": false,
     "title": ""
    }
   },
   "outputs": [
    {
     "output_type": "stream",
     "name": "stdout",
     "output_type": "stream",
     "text": [
      "root\n |-- AccountNo: string (nullable = true)\n |-- TransactionDetails: string (nullable = true)\n |-- ValueDate: string (nullable = true)\n |-- WithdrawalAmt: double (nullable = true)\n |-- DepositAmt: double (nullable = true)\n |-- BalanceAmt: double (nullable = true)\n\n"
     ]
    }
   ],
   "source": [
    "# Print the schema of the transacton dataset\n",
    "txnDf.printSchema()"
   ]
  },
  {
   "cell_type": "code",
   "execution_count": 0,
   "metadata": {
    "application/vnd.databricks.v1+cell": {
     "cellMetadata": {
      "byteLimit": 2048000,
      "rowLimit": 10000
     },
     "inputWidgets": {},
     "nuid": "1c171b91-adaf-4a08-90b4-83cd3ad0eaf8",
     "showTitle": false,
     "title": ""
    }
   },
   "outputs": [
    {
     "output_type": "stream",
     "name": "stdout",
     "output_type": "stream",
     "text": [
      "+-------------+-----+\n|    AccountNo|count|\n+-------------+-----+\n|409000438611'| 4588|\n|     1196711'|10536|\n|     1196428'|48779|\n|409000493210'| 6014|\n|409000611074'| 1093|\n|409000425051'|  802|\n|409000405747'|   51|\n|409000493201'| 1044|\n|409000438620'|13454|\n|409000362497'|29840|\n+-------------+-----+\n\n"
     ]
    }
   ],
   "source": [
    "#COUNT OF TRANSACTION ON EVERY ACCOUNT\n",
    "txnDf.groupBy('AccountNo').count().show()"
   ]
  },
  {
   "cell_type": "code",
   "execution_count": 0,
   "metadata": {
    "application/vnd.databricks.v1+cell": {
     "cellMetadata": {
      "byteLimit": 2048000,
      "rowLimit": 10000
     },
     "inputWidgets": {},
     "nuid": "aa14fa57-393a-4c9d-9bc8-d23ae478ddb8",
     "showTitle": false,
     "title": ""
    }
   },
   "outputs": [
    {
     "output_type": "stream",
     "name": "stdout",
     "output_type": "stream",
     "text": [
      "+-------------+------------------+\n|    AccountNo|max(WithdrawalAmt)|\n+-------------+------------------+\n|     1196711'|     4.594475464E8|\n|409000438620'|             4.0E8|\n|409000425051'|            3.54E8|\n|409000438611'|             2.4E8|\n|409000405747'|             1.7E8|\n|     1196428'|             1.5E8|\n|409000362497'|     1.413662392E8|\n|409000493210'|             1.5E7|\n|409000493201'|         2500000.0|\n|409000611074'|          912000.0|\n+-------------+------------------+\n\n"
     ]
    }
   ],
   "source": [
    "# Find the Maximum withdrawal amount for each account\n",
    "txnDf.groupBy('AccountNo').max('WithdrawalAmt').orderBy('max(WithdrawalAmt)', ascending=False).show()"
   ]
  },
  {
   "cell_type": "code",
   "execution_count": 0,
   "metadata": {
    "application/vnd.databricks.v1+cell": {
     "cellMetadata": {
      "byteLimit": 2048000,
      "rowLimit": 10000
     },
     "inputWidgets": {},
     "nuid": "7f2731c0-21a4-4920-b92e-c1dc860bb7ad",
     "showTitle": false,
     "title": ""
    }
   },
   "outputs": [
    {
     "output_type": "stream",
     "name": "stdout",
     "output_type": "stream",
     "text": [
      "+-------------+------------------+\n|    AccountNo|min(WithdrawalAmt)|\n+-------------+------------------+\n|409000493210'|              0.01|\n|409000438611'|               0.2|\n|     1196428'|              0.25|\n|     1196711'|              0.25|\n|409000438620'|              0.34|\n|409000362497'|              0.97|\n|409000425051'|              1.25|\n|409000493201'|               2.1|\n|409000405747'|              21.0|\n|409000611074'|             120.0|\n+-------------+------------------+\n\n"
     ]
    }
   ],
   "source": [
    "#MINIMUM WITHDRAWAL AMOUNT OF AN ACCOUNT\n",
    "txnDf.groupBy('AccountNo').min('WithdrawalAmt').orderBy('min(WithdrawalAmt)').show()"
   ]
  },
  {
   "cell_type": "code",
   "execution_count": 0,
   "metadata": {
    "application/vnd.databricks.v1+cell": {
     "cellMetadata": {
      "byteLimit": 2048000,
      "rowLimit": 10000
     },
     "inputWidgets": {},
     "nuid": "ca8e4144-b340-4a60-a1b6-745a9c730708",
     "showTitle": false,
     "title": ""
    },
    "scrolled": true
   },
   "outputs": [
    {
     "output_type": "stream",
     "name": "stdout",
     "output_type": "stream",
     "text": [
      "+-------------+---------------+\n|    AccountNo|max(DepositAmt)|\n+-------------+---------------+\n|409000438620'|        5.448E8|\n|     1196711'|          5.0E8|\n|     1196428'|  2.119594422E8|\n|409000405747'|        2.021E8|\n|409000362497'|          2.0E8|\n|409000438611'|       1.7025E8|\n|409000493210'|          1.5E7|\n|409000425051'|          1.5E7|\n|409000611074'|      3000000.0|\n|409000493201'|      1000000.0|\n+-------------+---------------+\n\n"
     ]
    }
   ],
   "source": [
    "#MAXIMUM DEPOSIT AMOUNT OF AN ACCOUNT\n",
    "txnDf.groupBy('AccountNo').max('DepositAmt').orderBy('max(DepositAmt)', ascending=False).show()"
   ]
  },
  {
   "cell_type": "code",
   "execution_count": 0,
   "metadata": {
    "application/vnd.databricks.v1+cell": {
     "cellMetadata": {
      "byteLimit": 2048000,
      "rowLimit": 10000
     },
     "inputWidgets": {},
     "nuid": "96cbbb0e-9a46-48a8-b9c6-15755184f9a7",
     "showTitle": false,
     "title": ""
    }
   },
   "outputs": [
    {
     "output_type": "stream",
     "name": "stdout",
     "output_type": "stream",
     "text": [
      "+-------------+---------------+\n|    AccountNo|min(DepositAmt)|\n+-------------+---------------+\n|409000493210'|           0.01|\n|409000438611'|           0.03|\n|409000362497'|           0.03|\n|409000438620'|           0.07|\n|409000493201'|            0.9|\n|409000425051'|            1.0|\n|     1196428'|            1.0|\n|     1196711'|           1.01|\n|409000405747'|          500.0|\n|409000611074'|         1320.0|\n+-------------+---------------+\n\n"
     ]
    }
   ],
   "source": [
    "#MINIMUM DEPOSIT AMOUNT OF AN ACCOUNT\n",
    "txnDf.groupBy('AccountNo').min('DepositAmt').orderBy('min(DepositAmt)').show()"
   ]
  },
  {
   "cell_type": "code",
   "execution_count": 0,
   "metadata": {
    "application/vnd.databricks.v1+cell": {
     "cellMetadata": {
      "byteLimit": 2048000,
      "rowLimit": 10000
     },
     "inputWidgets": {},
     "nuid": "b648785e-fade-4e86-8b10-c9dd250cfa4c",
     "showTitle": false,
     "title": ""
    }
   },
   "outputs": [
    {
     "output_type": "stream",
     "name": "stdout",
     "output_type": "stream",
     "text": [
      "+-------------+--------------------+\n|    AccountNo|     sum(BalanceAmt)|\n+-------------+--------------------+\n|409000438611'|-2.49486577068339...|\n|     1196711'|-1.60476498101275E13|\n|     1196428'| -8.1418498130721E13|\n|409000493210'|-3.27584952132095...|\n|409000611074'|       1.615533622E9|\n|409000425051'|-3.77211841164998...|\n|409000405747'|-2.43108047067000...|\n|409000493201'|1.0420831829499985E9|\n|409000438620'|-7.12291867951358...|\n|409000362497'| -5.2860004792808E13|\n+-------------+--------------------+\n\n"
     ]
    }
   ],
   "source": [
    "#sum of balance in every bank account\n",
    "txnDf.groupBy('AccountNo').sum('BalanceAmt').show()"
   ]
  },
  {
   "cell_type": "code",
   "execution_count": 0,
   "metadata": {
    "application/vnd.databricks.v1+cell": {
     "cellMetadata": {
      "byteLimit": 2048000,
      "rowLimit": 10000
     },
     "inputWidgets": {},
     "nuid": "f420bf72-3ad9-42e5-8844-ef4b26167bdb",
     "showTitle": false,
     "title": ""
    },
    "scrolled": true
   },
   "outputs": [
    {
     "output_type": "stream",
     "name": "stdout",
     "output_type": "stream",
     "text": [
      "+---------+-----+\n|ValueDate|count|\n+---------+-----+\n|27-Jul-17|  567|\n|13-Aug-18|  463|\n| 8-Nov-17|  402|\n| 7-Oct-17|  382|\n|10-Jul-18|  374|\n|12-Dec-17|  367|\n|12-Sep-18|  365|\n| 9-Aug-18|  360|\n|19-Sep-17|  358|\n|16-Mar-17|  353|\n|10-Sep-18|  344|\n|14-Jul-17|  333|\n| 7-Mar-18|  319|\n|11-Oct-18|  303|\n|22-Aug-17|  301|\n| 9-Jan-18|  299|\n| 9-Oct-18|  297|\n|20-Apr-18|  296|\n| 9-Jul-18|  292|\n| 7-Apr-18|  291|\n+---------+-----+\nonly showing top 20 rows\n\n"
     ]
    }
   ],
   "source": [
    "#Number of transaction on each date\n",
    "txnDf.groupBy('ValueDate').count().orderBy('count', ascending=False).show()"
   ]
  },
  {
   "cell_type": "code",
   "execution_count": 0,
   "metadata": {
    "application/vnd.databricks.v1+cell": {
     "cellMetadata": {
      "byteLimit": 2048000,
      "rowLimit": 10000
     },
     "inputWidgets": {},
     "nuid": "7c609a97-e9be-4ca5-bd2d-182b8fe81766",
     "showTitle": false,
     "title": ""
    }
   },
   "outputs": [
    {
     "output_type": "stream",
     "name": "stdout",
     "output_type": "stream",
     "text": [
      "+-------------+--------------------+-------------+\n|    AccountNo|  TransactionDetails|WithdrawalAmt|\n+-------------+--------------------+-------------+\n|409000611074'|INDO GIBL Indiafo...|     133900.0|\n|409000611074'|INDO GIBL Indiafo...|     195800.0|\n|409000611074'|INDO GIBL Indiafo...|     143800.0|\n|409000611074'|INDO GIBL Indiafo...|     331650.0|\n|409000611074'|INDO GIBL Indiafo...|     129000.0|\n|409000611074'|INDO GIBL Indiafo...|     230013.0|\n|409000611074'|INDO GIBL Indiafo...|     367900.0|\n|409000611074'|INDO GIBL Indiafo...|     108000.0|\n|409000611074'|INDO GIBL Indiafo...|     141000.0|\n|409000611074'|INDO GIBL Indiafo...|     206000.0|\n|409000611074'|INDO GIBL Indiafo...|     242300.0|\n|409000611074'|INDO GIBL Indiafo...|     113250.0|\n|409000611074'|INDO GIBL Indiafo...|     206900.0|\n|409000611074'|INDO GIBL Indiafo...|     276000.0|\n|409000611074'|INDO GIBL Indiafo...|     171000.0|\n|409000611074'|INDO GIBL Indiafo...|     189800.0|\n|409000611074'|INDO GIBL Indiafo...|     271323.0|\n|409000611074'|INDO GIBL Indiafo...|     200600.0|\n|409000611074'|INDO GIBL Indiafo...|     176900.0|\n|409000611074'|INDO GIBL Indiafo...|     150050.0|\n+-------------+--------------------+-------------+\nonly showing top 20 rows\n\n"
     ]
    }
   ],
   "source": [
    "#List of customers with withdrawal amount more than 1 lakh (100000)\n",
    "txnDf.select(['AccountNo', 'TransactionDetails', 'WithdrawalAmt']).where(col('WithdrawalAmt') > 100000).show()"
   ]
  }
 ],
 "metadata": {
  "application/vnd.databricks.v1+notebook": {
   "dashboards": [],
   "language": "python",
   "notebookMetadata": {
    "pythonIndentUnit": 4
   },
   "notebookName": "banking_lab",
   "widgets": {}
  },
  "kernelspec": {
   "display_name": "Python 3",
   "language": "python",
   "name": "python3"
  },
  "language_info": {
   "codemirror_mode": {
    "name": "ipython",
    "version": 3
   },
   "file_extension": ".py",
   "mimetype": "text/x-python",
   "name": "python",
   "nbconvert_exporter": "python",
   "pygments_lexer": "ipython3",
   "version": "3.8.8"
  }
 },
 "nbformat": 4,
 "nbformat_minor": 0
}
